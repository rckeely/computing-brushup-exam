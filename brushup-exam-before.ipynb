{
 "cells": [
  {
   "cell_type": "code",
   "execution_count": 71,
   "metadata": {
    "autoscroll": false,
    "ein.tags": "worksheet-0",
    "slideshow": {
     "slide_type": "-"
    }
   },
   "outputs": [
    {
     "name": "stdout",
     "output_type": "stream",
     "text": [
      "The rpy2.ipython extension is already loaded. To reload it, use:\n",
      "  %reload_ext rpy2.ipython\n"
     ]
    }
   ],
   "source": [
    "%load_ext rpy2.ipython"
   ]
  },
  {
   "cell_type": "markdown",
   "metadata": {
    "ein.tags": "worksheet-0",
    "slideshow": {
     "slide_type": "-"
    }
   },
   "source": [
    "# Problem 1: The Command Line\n",
    "\n",
    "SSH into your instance. \n",
    "\n",
    "You will find a file located at $HOME/not-your-folder/2018_padro_nacionalitat_per_sexe.csv \n",
    "\n",
    "Your job is to create a new folder at $HOME/this-is-the-one, and move the csv file into that new folder"
   ]
  },
  {
   "cell_type": "code",
   "execution_count": 72,
   "metadata": {},
   "outputs": [],
   "source": [
    "import urllib.request\n",
    "import os"
   ]
  },
  {
   "cell_type": "code",
   "execution_count": null,
   "metadata": {},
   "outputs": [],
   "source": []
  },
  {
   "cell_type": "code",
   "execution_count": 73,
   "metadata": {},
   "outputs": [],
   "source": [
    "def clean_files(target_directory, target_file):\n",
    "    if os.path.exists(target_directory):\n",
    "        if os.path.exists(f\"{target_directory}/{target_file}\"):\n",
    "            os.remove(f\"{target_directory}/{target_file}\")\n",
    "        os.rmdir(target_directory)\n",
    "\n",
    "    if os.path.exists(target_file):\n",
    "        os.remove(target_file)\n",
    "\n",
    "def fetch_file(url, target_directory, target_file):\n",
    "    os.mkdir(target_directory)\n",
    "    urllib.request.urlretrieve(url, f\"{target_directory}/{target_file}\")\n",
    "\n",
    "url = \"https://opendata-ajuntament.barcelona.cat/data/dataset/3a0934e4-cdba-4056-950a-331429cb8908/resource/da151a88-9dbe-4715-9ebd-9982506deb85/download/2018_padro_nacionalitat_per_sexe.csv\"\n",
    "target_directory = 'this-is-the-one'\n",
    "target_file = '2018_padro_nacionalitat_per_sexe.csv'\n",
    "clean_files(target_directory, target_file)\n",
    "fetch_file(url, target_directory, target_file)\n"
   ]
  },
  {
   "cell_type": "code",
   "execution_count": 74,
   "metadata": {},
   "outputs": [
    {
     "data": {
      "text/plain": [
       "['2018_padro_nacionalitat_per_sexe.csv']"
      ]
     },
     "execution_count": 74,
     "metadata": {},
     "output_type": "execute_result"
    }
   ],
   "source": [
    "os.listdir(target_directory)\n"
   ]
  },
  {
   "cell_type": "markdown",
   "metadata": {
    "ein.tags": "worksheet-0",
    "slideshow": {
     "slide_type": "-"
    }
   },
   "source": [
    "# Problem 2: Plotting in R"
   ]
  },
  {
   "cell_type": "code",
   "execution_count": 5,
   "metadata": {
    "autoscroll": false,
    "ein.tags": "worksheet-0",
    "slideshow": {
     "slide_type": "-"
    }
   },
   "outputs": [
    {
     "name": "stderr",
     "output_type": "stream",
     "text": [
      "/opt/conda/lib/python3.7/site-packages/rpy2/rinterface/__init__.py:146: RRuntimeWarning: ── Attaching packages ─────────────────────────────────────── tidyverse 1.2.1 ──\n",
      "\n",
      "  warnings.warn(x, RRuntimeWarning)\n",
      "/opt/conda/lib/python3.7/site-packages/rpy2/rinterface/__init__.py:146: RRuntimeWarning: ✔ ggplot2 3.2.1     ✔ purrr   0.3.2\n",
      "✔ tibble  2.1.3     ✔ dplyr   0.8.3\n",
      "✔ tidyr   0.8.3     ✔ stringr 1.4.0\n",
      "✔ readr   1.3.1     ✔ forcats 0.4.0\n",
      "\n",
      "  warnings.warn(x, RRuntimeWarning)\n",
      "/opt/conda/lib/python3.7/site-packages/rpy2/rinterface/__init__.py:146: RRuntimeWarning: ── Conflicts ────────────────────────────────────────── tidyverse_conflicts() ──\n",
      "✖ dplyr::filter() masks stats::filter()\n",
      "✖ dplyr::lag()    masks stats::lag()\n",
      "\n",
      "  warnings.warn(x, RRuntimeWarning)\n"
     ]
    }
   ],
   "source": [
    "%%R\n",
    "\n",
    "library(tidyverse)\n",
    "library(utils)\n"
   ]
  },
  {
   "cell_type": "code",
   "execution_count": 6,
   "metadata": {
    "autoscroll": false,
    "ein.tags": "worksheet-0",
    "slideshow": {
     "slide_type": "-"
    }
   },
   "outputs": [
    {
     "name": "stderr",
     "output_type": "stream",
     "text": [
      "/opt/conda/lib/python3.7/site-packages/rpy2/rinterface/__init__.py:146: RRuntimeWarning: Parsed with column specification:\n",
      "cols(\n",
      "  Any = col_double(),\n",
      "  Codi_Districte = col_double(),\n",
      "  Nom_Districte = col_character(),\n",
      "  Codi_Barri = col_double(),\n",
      "  Nom_Barri = col_character(),\n",
      "  Sexe = col_character(),\n",
      "  Nacionalitat = col_character(),\n",
      "  Nombre = col_double()\n",
      ")\n",
      "\n",
      "  warnings.warn(x, RRuntimeWarning)\n"
     ]
    }
   ],
   "source": [
    "%%R\n",
    "\n",
    "# Read the file '2018_padro_nacionalitat_per_sexe.csv' from the new location, using read_csv\n",
    "# put the resulting Tibble into a variable called 'barris'\n",
    "target_file <- 'this-is-the-one/2018_padro_nacionalitat_per_sexe.csv'\n",
    "\n",
    "barris <- read_csv(target_file)"
   ]
  },
  {
   "cell_type": "code",
   "execution_count": 7,
   "metadata": {
    "autoscroll": false,
    "ein.tags": "worksheet-0",
    "slideshow": {
     "slide_type": "-"
    }
   },
   "outputs": [
    {
     "data": {
      "text/plain": [
       "# A tibble: 7,446 x 8\n",
       "     Any Codi_Districte Nom_Districte Codi_Barri Nom_Barri Sexe  Nacionalitat\n",
       "   <dbl>          <dbl> <chr>              <dbl> <fct>     <fct> <fct>       \n",
       " 1  2018              1 Ciutat Vella           1 el Raval  Home  Espanya     \n",
       " 2  2018              1 Ciutat Vella           2 el Barri… Home  Espanya     \n",
       " 3  2018              1 Ciutat Vella           3 la Barce… Home  Espanya     \n",
       " 4  2018              1 Ciutat Vella           4 Sant Per… Home  Espanya     \n",
       " 5  2018              2 Eixample               5 el Fort … Home  Espanya     \n",
       " 6  2018              2 Eixample               6 la Sagra… Home  Espanya     \n",
       " 7  2018              2 Eixample               7 la Dreta… Home  Espanya     \n",
       " 8  2018              2 Eixample               8 l'Antiga… Home  Espanya     \n",
       " 9  2018              2 Eixample               9 la Nova … Home  Espanya     \n",
       "10  2018              2 Eixample              10 Sant Ant… Home  Espanya     \n",
       "# … with 7,436 more rows, and 1 more variable: Nombre <dbl>\n"
      ]
     },
     "metadata": {},
     "output_type": "display_data"
    }
   ],
   "source": [
    "%%R\n",
    "\n",
    "# Let's manually convert a few columns into factors. \n",
    "barris %>% mutate(Nom_Barri = parse_factor(Nom_Barri, NULL), \n",
    "                  Sexe = parse_factor(Sexe, NULL),\n",
    "                  Nacionalitat = parse_factor(Nacionalitat, NULL))\n",
    "\n",
    "# We want to explore the neighborhood referred to as 'el Poblenou', in the variable\n",
    "# 'Nom_Barri' (neighborhood name). We will take a look at the gender and nationality\n",
    "# of the non-Spanish population in this neighborhood. \n",
    "#\n",
    "# First, filter the data to only 'el Poblenou'\n",
    "# Second, remove the nationality 'Espanya'\n",
    "# Third, plot a horizontal bar chart of the population counted by 'Nacionalitat',\n",
    "# but only plot the most populous nationalities. Set a cutoff that looks right to you. \n",
    "#\n",
    "# Note: the number of each 'Sexe'/'Nacionalitat' combo is in the variable 'Nombre'\n",
    "# \n",
    "# Hint: group and count manually, and then use ggplot's geom_col and use coord_flip()\n",
    "# to make the chart horizontal\n",
    "#\n",
    "# Bonus: Display the gender ('Sexe') in different colors, via the \"fill\" property!"
   ]
  },
  {
   "cell_type": "code",
   "execution_count": 76,
   "metadata": {},
   "outputs": [
    {
     "data": {
      "image/png": "[encoded data removed]"
     },
     "metadata": {},
     "output_type": "display_data"
    }
   ],
   "source": [
    "%%R\n",
    "\n",
    "# Option 1 : cutoff using a number of countries, e.g. top 20:\n",
    "cutoff <- 20\n",
    "\n",
    "cutoff_1 <- barris %>%\n",
    "    filter(Nom_Barri == \"el Poblenou\") %>%\n",
    "    filter(Nacionalitat != 'Espanya') %>%\n",
    "    group_by(Nacionalitat) %>%\n",
    "    mutate(Total = sum(Nombre)) %>%\n",
    "    ungroup %>%\n",
    "    arrange(desc(Total)) %>%\n",
    "    head(cutoff)\n",
    "\n",
    "ggplot() + geom_col(data=cutoff_1, \n",
    "                aes(x=Nacionalitat, y=Total, fill=Sexe)) +\n",
    "    coord_flip()\n"
   ]
  },
  {
   "cell_type": "code",
   "execution_count": 77,
   "metadata": {},
   "outputs": [
    {
     "data": {
      "image/png": "[encoded data removed]"
     },
     "metadata": {},
     "output_type": "display_data"
    }
   ],
   "source": [
    "%%R\n",
    "\n",
    "# Option 1 : cutoff using number of residents\n",
    "cutoff <- 100\n",
    "\n",
    "cutoff_2 <- barris %>%\n",
    "    filter(Nom_Barri == \"el Poblenou\") %>%\n",
    "    filter(Nacionalitat != 'Espanya') %>%\n",
    "    group_by(Nacionalitat) %>%\n",
    "    mutate(Total = sum(Nombre)) %>%\n",
    "    ungroup %>%\n",
    "    arrange(desc(Total)) %>%\n",
    "    filter(Nombre >= cutoff)\n",
    "\n",
    "ggplot() + geom_col(data=cutoff_2, \n",
    "                aes(x=Nacionalitat, y=Total, fill=Sexe)) +\n",
    "    coord_flip()"
   ]
  },
  {
   "cell_type": "code",
   "execution_count": 41,
   "metadata": {},
   "outputs": [
    {
     "data": {
      "image/png": "[encoded data removed]"
     },
     "metadata": {},
     "output_type": "display_data"
    }
   ],
   "source": [
    "%%R\n",
    "\n",
    "\n",
    "\n",
    "#ggplot() + geom_bar(data=test_df, aes(x=Nombre, y=Nacionalitat, fill=Sexe),\n",
    "#                    stat=\"identity\") + coord_flip()"
   ]
  },
  {
   "cell_type": "markdown",
   "metadata": {
    "ein.tags": "worksheet-0",
    "slideshow": {
     "slide_type": "-"
    }
   },
   "source": [
    "# Problem 3: Classes in Python"
   ]
  },
  {
   "cell_type": "code",
   "execution_count": null,
   "metadata": {},
   "outputs": [],
   "source": []
  },
  {
   "cell_type": "code",
   "execution_count": null,
   "metadata": {
    "autoscroll": false,
    "ein.tags": "worksheet-0",
    "slideshow": {
     "slide_type": "-"
    }
   },
   "outputs": [],
   "source": [
    "# Create a class called \"RandomClassifier\". \n",
    "\n",
    "# It's constructor should have one required parameter: 'probability'\n",
    "\n",
    "# It should have one instance method, 'predict'\n",
    "\n",
    "# The predict method should take one required parameter: 'x'\n",
    "\n",
    "# The predict method should then randomly return a 1 or 0. It should return a 1\n",
    "# with the probability given in the parameter\n",
    "\n",
    "# The following cell has a test that should pass if you've done it correctly!"
   ]
  },
  {
   "cell_type": "code",
   "execution_count": 62,
   "metadata": {},
   "outputs": [],
   "source": [
    "class RandomClassifier():\n",
    "    def __init__(self, probability):\n",
    "        self.probability = probability\n",
    "    \n",
    "    def predict(self, x):\n",
    "        if np.random.uniform() <= self.probability:\n",
    "            return 1\n",
    "        else:\n",
    "            return 0"
   ]
  },
  {
   "cell_type": "code",
   "execution_count": 53,
   "metadata": {},
   "outputs": [
    {
     "data": {
      "text/plain": [
       "# A tibble: 0 x 8\n",
       "# … with 8 variables: Any <dbl>, Codi_Districte <dbl>, Nom_Districte <chr>,\n",
       "#   Codi_Barri <dbl>, Nom_Barri <chr>, Sexe <chr>, Nacionalitat <chr>,\n",
       "#   Nombre <dbl>\n"
      ]
     },
     "metadata": {},
     "output_type": "display_data"
    }
   ],
   "source": [
    "%%R\n",
    "test_df"
   ]
  },
  {
   "cell_type": "code",
   "execution_count": 63,
   "metadata": {
    "autoscroll": false,
    "ein.tags": "worksheet-0",
    "slideshow": {
     "slide_type": "-"
    }
   },
   "outputs": [],
   "source": [
    "import numpy as np\n",
    "\n",
    "r = RandomClassifier(probability = .2)\n",
    "m = np.mean([r.predict(x = i) for i in np.arange(100000)])\n",
    "\n",
    "np.testing.assert_approx_equal(m, 0.2, 2)"
   ]
  },
  {
   "cell_type": "markdown",
   "metadata": {
    "ein.tags": "worksheet-0",
    "slideshow": {
     "slide_type": "-"
    }
   },
   "source": [
    "# Problem 4: Some Theory"
   ]
  },
  {
   "cell_type": "markdown",
   "metadata": {
    "ein.tags": "worksheet-0",
    "slideshow": {
     "slide_type": "-"
    }
   },
   "source": [
    "### What are pure functions and what are their strengths? (2-3 lines)"
   ]
  },
  {
   "cell_type": "markdown",
   "metadata": {
    "ein.tags": "worksheet-0",
    "slideshow": {
     "slide_type": "-"
    }
   },
   "source": [
    "A pure function is one where the only thing that determines the return value is the input values - _i.e._ it does not depend on other external values. This is similar to the way that functions work in maths. It is good because the function will be entirely deterministic."
   ]
  },
  {
   "cell_type": "markdown",
   "metadata": {
    "ein.tags": "worksheet-0",
    "slideshow": {
     "slide_type": "-"
    }
   },
   "source": [
    "### What is lazy evaluation and when might you use it? (2-3 lines)"
   ]
  },
  {
   "cell_type": "markdown",
   "metadata": {
    "ein.tags": "worksheet-0",
    "slideshow": {
     "slide_type": "-"
    }
   },
   "source": [
    "Lazy evaluation is a process when you defer evaluating things until they are needed by other compuations. It is useful as it avoids repeated evaluations."
   ]
  },
  {
   "cell_type": "code",
   "execution_count": null,
   "metadata": {},
   "outputs": [],
   "source": []
  }
 ],
 "metadata": {
  "kernelspec": {
   "display_name": "Python 3",
   "language": "python",
   "name": "python3"
  },
  "language_info": {
   "codemirror_mode": {
    "name": "ipython",
    "version": 3
   },
   "file_extension": ".py",
   "mimetype": "text/x-python",
   "name": "python",
   "nbconvert_exporter": "python",
   "pygments_lexer": "ipython3",
   "version": "3.7.3"
  },
  "name": "exam.ipynb"
 },
 "nbformat": 4,
 "nbformat_minor": 2
}
